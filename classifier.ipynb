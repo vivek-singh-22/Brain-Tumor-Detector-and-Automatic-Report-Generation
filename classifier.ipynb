{
 "cells": [
  {
   "cell_type": "code",
   "execution_count": 1,
   "id": "d45d5c26",
   "metadata": {},
   "outputs": [],
   "source": [
    "import tensorflow as tf"
   ]
  },
  {
   "cell_type": "code",
   "execution_count": 2,
   "id": "b03f6d42",
   "metadata": {},
   "outputs": [],
   "source": [
    "data_dir = \"Dataset\"\n",
    "img_size = 512\n",
    "batch_size = 32\n",
    "epochs = 50"
   ]
  },
  {
   "cell_type": "code",
   "execution_count": 3,
   "id": "c197698b",
   "metadata": {},
   "outputs": [],
   "source": [
    "from tensorflow.keras.preprocessing.image import ImageDataGenerator\n",
    "import matplotlib.pyplot as plt"
   ]
  },
  {
   "cell_type": "code",
   "execution_count": 4,
   "id": "90706d74",
   "metadata": {},
   "outputs": [],
   "source": [
    "#Data augmentation and preprocessing\n",
    "train_datagen = ImageDataGenerator(\n",
    "    rescale=1./255,\n",
    "    validation_split=0.2,  # 20% for validation\n",
    "    rotation_range=20,\n",
    "    width_shift_range=0.1,\n",
    "    height_shift_range=0.1,\n",
    "    zoom_range=0.1,\n",
    "    horizontal_flip=True\n",
    ")"
   ]
  },
  {
   "cell_type": "code",
   "execution_count": 5,
   "id": "8d19df44",
   "metadata": {},
   "outputs": [
    {
     "name": "stdout",
     "output_type": "stream",
     "text": [
      "Found 4571 images belonging to 4 classes.\n",
      "Found 262 images belonging to 4 classes.\n"
     ]
    }
   ],
   "source": [
    "\n",
    "class_names = ['no_tumor', 'glioma_tumor', 'meningioma_tumor', 'pituitary_tumor']\n",
    "\n",
    "train_generator = train_datagen.flow_from_directory(\n",
    "    'Dataset/Train',\n",
    "    target_size=(img_size, img_size),\n",
    "    batch_size=batch_size,\n",
    "    class_mode='sparse',\n",
    "    subset='training',\n",
    "    classes=class_names,\n",
    "    shuffle=True\n",
    ")\n",
    "\n",
    "val_generator = train_datagen.flow_from_directory(\n",
    "   'Dataset/Val',\n",
    "    target_size=(img_size, img_size),\n",
    "    batch_size=batch_size,\n",
    "    class_mode='sparse',\n",
    "    subset='validation',\n",
    "    classes=class_names,\n",
    "    shuffle=False\n",
    ")\n"
   ]
  },
  {
   "cell_type": "code",
   "execution_count": 6,
   "id": "dd8ffcf7",
   "metadata": {},
   "outputs": [
    {
     "name": "stdout",
     "output_type": "stream",
     "text": [
      "Classes found: {'no_tumor': 0, 'glioma_tumor': 1, 'meningioma_tumor': 2, 'pituitary_tumor': 3}\n"
     ]
    }
   ],
   "source": [
    "print(\"Classes found:\", train_generator.class_indices)"
   ]
  },
  {
   "cell_type": "code",
   "execution_count": null,
   "id": "a5540f6f",
   "metadata": {},
   "outputs": [
    {
     "name": "stderr",
     "output_type": "stream",
     "text": [
      "C:\\Users\\vivek\\AppData\\Local\\Temp\\ipykernel_22440\\346098123.py:7: UserWarning: `input_shape` is undefined or non-square, or `rows` is not in [96, 128, 160, 192, 224]. Weights for input shape (224, 224) will be loaded as the default.\n",
      "  base_model = MobileNetV2(input_shape=(img_size,img_size, 3), include_top=False, weights='imagenet')\n",
      "c:\\Users\\vivek\\anaconda3\\envs\\Tumor_detector\\Lib\\site-packages\\keras\\src\\trainers\\data_adapters\\py_dataset_adapter.py:121: UserWarning: Your `PyDataset` class should call `super().__init__(**kwargs)` in its constructor. `**kwargs` can include `workers`, `use_multiprocessing`, `max_queue_size`. Do not pass these arguments to `fit()`, as they will be ignored.\n",
      "  self._warn_if_super_not_called()\n"
     ]
    },
    {
     "name": "stdout",
     "output_type": "stream",
     "text": [
      "Epoch 1/50\n",
      "\u001b[1m143/143\u001b[0m \u001b[32m━━━━━━━━━━━━━━━━━━━━\u001b[0m\u001b[37m\u001b[0m \u001b[1m0s\u001b[0m 5s/step - accuracy: 0.7139 - loss: 0.7162\n",
      "Epoch 1: saving model to checkpoints_MNV2/epoch_01_valacc_0.78.weights.h5\n",
      "\u001b[1m143/143\u001b[0m \u001b[32m━━━━━━━━━━━━━━━━━━━━\u001b[0m\u001b[37m\u001b[0m \u001b[1m764s\u001b[0m 5s/step - accuracy: 0.7145 - loss: 0.7149 - val_accuracy: 0.7824 - val_loss: 0.6156\n",
      "Epoch 2/50\n",
      "\u001b[1m143/143\u001b[0m \u001b[32m━━━━━━━━━━━━━━━━━━━━\u001b[0m\u001b[37m\u001b[0m \u001b[1m0s\u001b[0m 5s/step - accuracy: 0.8663 - loss: 0.3592\n",
      "Epoch 2: saving model to checkpoints_MNV2/epoch_02_valacc_0.76.weights.h5\n",
      "\u001b[1m143/143\u001b[0m \u001b[32m━━━━━━━━━━━━━━━━━━━━\u001b[0m\u001b[37m\u001b[0m \u001b[1m783s\u001b[0m 5s/step - accuracy: 0.8664 - loss: 0.3590 - val_accuracy: 0.7595 - val_loss: 0.6555\n",
      "Epoch 3/50\n",
      "\u001b[1m143/143\u001b[0m \u001b[32m━━━━━━━━━━━━━━━━━━━━\u001b[0m\u001b[37m\u001b[0m \u001b[1m0s\u001b[0m 5s/step - accuracy: 0.8690 - loss: 0.3319\n",
      "Epoch 3: saving model to checkpoints_MNV2/epoch_03_valacc_0.74.weights.h5\n",
      "\u001b[1m143/143\u001b[0m \u001b[32m━━━━━━━━━━━━━━━━━━━━\u001b[0m\u001b[37m\u001b[0m \u001b[1m766s\u001b[0m 5s/step - accuracy: 0.8690 - loss: 0.3317 - val_accuracy: 0.7443 - val_loss: 0.5985\n",
      "Epoch 4/50\n",
      "\u001b[1m143/143\u001b[0m \u001b[32m━━━━━━━━━━━━━━━━━━━━\u001b[0m\u001b[37m\u001b[0m \u001b[1m0s\u001b[0m 5s/step - accuracy: 0.8916 - loss: 0.2858\n",
      "Epoch 4: saving model to checkpoints_MNV2/epoch_04_valacc_0.76.weights.h5\n",
      "\u001b[1m143/143\u001b[0m \u001b[32m━━━━━━━━━━━━━━━━━━━━\u001b[0m\u001b[37m\u001b[0m \u001b[1m766s\u001b[0m 5s/step - accuracy: 0.8916 - loss: 0.2858 - val_accuracy: 0.7557 - val_loss: 0.5804\n",
      "Epoch 5/50\n",
      "\u001b[1m143/143\u001b[0m \u001b[32m━━━━━━━━━━━━━━━━━━━━\u001b[0m\u001b[37m\u001b[0m \u001b[1m0s\u001b[0m 5s/step - accuracy: 0.8963 - loss: 0.2850\n",
      "Epoch 5: saving model to checkpoints_MNV2/epoch_05_valacc_0.79.weights.h5\n",
      "\u001b[1m143/143\u001b[0m \u001b[32m━━━━━━━━━━━━━━━━━━━━\u001b[0m\u001b[37m\u001b[0m \u001b[1m735s\u001b[0m 5s/step - accuracy: 0.8963 - loss: 0.2850 - val_accuracy: 0.7939 - val_loss: 0.4854\n",
      "Epoch 6/50\n",
      "\u001b[1m143/143\u001b[0m \u001b[32m━━━━━━━━━━━━━━━━━━━━\u001b[0m\u001b[37m\u001b[0m \u001b[1m0s\u001b[0m 5s/step - accuracy: 0.9141 - loss: 0.2473\n",
      "Epoch 6: saving model to checkpoints_MNV2/epoch_06_valacc_0.77.weights.h5\n",
      "\u001b[1m143/143\u001b[0m \u001b[32m━━━━━━━━━━━━━━━━━━━━\u001b[0m\u001b[37m\u001b[0m \u001b[1m728s\u001b[0m 5s/step - accuracy: 0.9140 - loss: 0.2474 - val_accuracy: 0.7672 - val_loss: 0.5045\n",
      "Epoch 7/50\n",
      "\u001b[1m143/143\u001b[0m \u001b[32m━━━━━━━━━━━━━━━━━━━━\u001b[0m\u001b[37m\u001b[0m \u001b[1m0s\u001b[0m 5s/step - accuracy: 0.9095 - loss: 0.2352\n",
      "Epoch 7: saving model to checkpoints_MNV2/epoch_07_valacc_0.77.weights.h5\n",
      "\u001b[1m143/143\u001b[0m \u001b[32m━━━━━━━━━━━━━━━━━━━━\u001b[0m\u001b[37m\u001b[0m \u001b[1m711s\u001b[0m 5s/step - accuracy: 0.9095 - loss: 0.2353 - val_accuracy: 0.7672 - val_loss: 0.5653\n",
      "Epoch 8/50\n",
      "\u001b[1m143/143\u001b[0m \u001b[32m━━━━━━━━━━━━━━━━━━━━\u001b[0m\u001b[37m\u001b[0m \u001b[1m0s\u001b[0m 5s/step - accuracy: 0.9201 - loss: 0.2224\n",
      "Epoch 8: saving model to checkpoints_MNV2/epoch_08_valacc_0.81.weights.h5\n",
      "\u001b[1m143/143\u001b[0m \u001b[32m━━━━━━━━━━━━━━━━━━━━\u001b[0m\u001b[37m\u001b[0m \u001b[1m710s\u001b[0m 5s/step - accuracy: 0.9200 - loss: 0.2225 - val_accuracy: 0.8130 - val_loss: 0.4301\n",
      "Epoch 9/50\n",
      "\u001b[1m143/143\u001b[0m \u001b[32m━━━━━━━━━━━━━━━━━━━━\u001b[0m\u001b[37m\u001b[0m \u001b[1m0s\u001b[0m 5s/step - accuracy: 0.9107 - loss: 0.2305\n",
      "Epoch 9: saving model to checkpoints_MNV2/epoch_09_valacc_0.81.weights.h5\n",
      "\u001b[1m143/143\u001b[0m \u001b[32m━━━━━━━━━━━━━━━━━━━━\u001b[0m\u001b[37m\u001b[0m \u001b[1m727s\u001b[0m 5s/step - accuracy: 0.9107 - loss: 0.2305 - val_accuracy: 0.8053 - val_loss: 0.4742\n",
      "Epoch 10/50\n",
      "\u001b[1m143/143\u001b[0m \u001b[32m━━━━━━━━━━━━━━━━━━━━\u001b[0m\u001b[37m\u001b[0m \u001b[1m0s\u001b[0m 5s/step - accuracy: 0.9153 - loss: 0.2230\n",
      "Epoch 10: saving model to checkpoints_MNV2/epoch_10_valacc_0.83.weights.h5\n",
      "\u001b[1m143/143\u001b[0m \u001b[32m━━━━━━━━━━━━━━━━━━━━\u001b[0m\u001b[37m\u001b[0m \u001b[1m737s\u001b[0m 5s/step - accuracy: 0.9152 - loss: 0.2230 - val_accuracy: 0.8282 - val_loss: 0.4062\n",
      "Epoch 11/50\n",
      "\u001b[1m143/143\u001b[0m \u001b[32m━━━━━━━━━━━━━━━━━━━━\u001b[0m\u001b[37m\u001b[0m \u001b[1m0s\u001b[0m 5s/step - accuracy: 0.9038 - loss: 0.2471\n",
      "Epoch 11: saving model to checkpoints_MNV2/epoch_11_valacc_0.80.weights.h5\n",
      "\u001b[1m143/143\u001b[0m \u001b[32m━━━━━━━━━━━━━━━━━━━━\u001b[0m\u001b[37m\u001b[0m \u001b[1m704s\u001b[0m 5s/step - accuracy: 0.9038 - loss: 0.2469 - val_accuracy: 0.7977 - val_loss: 0.4443\n",
      "Epoch 12/50\n",
      "\u001b[1m143/143\u001b[0m \u001b[32m━━━━━━━━━━━━━━━━━━━━\u001b[0m\u001b[37m\u001b[0m \u001b[1m0s\u001b[0m 5s/step - accuracy: 0.9064 - loss: 0.2348\n",
      "Epoch 12: saving model to checkpoints_MNV2/epoch_12_valacc_0.78.weights.h5\n",
      "\u001b[1m143/143\u001b[0m \u001b[32m━━━━━━━━━━━━━━━━━━━━\u001b[0m\u001b[37m\u001b[0m \u001b[1m716s\u001b[0m 5s/step - accuracy: 0.9065 - loss: 0.2348 - val_accuracy: 0.7786 - val_loss: 0.5389\n",
      "Epoch 13/50\n",
      "\u001b[1m143/143\u001b[0m \u001b[32m━━━━━━━━━━━━━━━━━━━━\u001b[0m\u001b[37m\u001b[0m \u001b[1m0s\u001b[0m 5s/step - accuracy: 0.9129 - loss: 0.2359\n",
      "Epoch 13: saving model to checkpoints_MNV2/epoch_13_valacc_0.85.weights.h5\n",
      "\u001b[1m143/143\u001b[0m \u001b[32m━━━━━━━━━━━━━━━━━━━━\u001b[0m\u001b[37m\u001b[0m \u001b[1m724s\u001b[0m 5s/step - accuracy: 0.9129 - loss: 0.2358 - val_accuracy: 0.8511 - val_loss: 0.3623\n",
      "Epoch 14/50\n",
      "\u001b[1m143/143\u001b[0m \u001b[32m━━━━━━━━━━━━━━━━━━━━\u001b[0m\u001b[37m\u001b[0m \u001b[1m0s\u001b[0m 5s/step - accuracy: 0.9129 - loss: 0.2192\n",
      "Epoch 14: saving model to checkpoints_MNV2/epoch_14_valacc_0.86.weights.h5\n",
      "\u001b[1m143/143\u001b[0m \u001b[32m━━━━━━━━━━━━━━━━━━━━\u001b[0m\u001b[37m\u001b[0m \u001b[1m710s\u001b[0m 5s/step - accuracy: 0.9129 - loss: 0.2191 - val_accuracy: 0.8588 - val_loss: 0.3604\n",
      "Epoch 15/50\n",
      "\u001b[1m143/143\u001b[0m \u001b[32m━━━━━━━━━━━━━━━━━━━━\u001b[0m\u001b[37m\u001b[0m \u001b[1m0s\u001b[0m 5s/step - accuracy: 0.9239 - loss: 0.1986\n",
      "Epoch 15: saving model to checkpoints_MNV2/epoch_15_valacc_0.79.weights.h5\n",
      "\u001b[1m143/143\u001b[0m \u001b[32m━━━━━━━━━━━━━━━━━━━━\u001b[0m\u001b[37m\u001b[0m \u001b[1m723s\u001b[0m 5s/step - accuracy: 0.9238 - loss: 0.1986 - val_accuracy: 0.7901 - val_loss: 0.6003\n",
      "Epoch 16/50\n",
      "\u001b[1m143/143\u001b[0m \u001b[32m━━━━━━━━━━━━━━━━━━━━\u001b[0m\u001b[37m\u001b[0m \u001b[1m0s\u001b[0m 5s/step - accuracy: 0.9232 - loss: 0.2095\n",
      "Epoch 16: saving model to checkpoints_MNV2/epoch_16_valacc_0.84.weights.h5\n",
      "\u001b[1m143/143\u001b[0m \u001b[32m━━━━━━━━━━━━━━━━━━━━\u001b[0m\u001b[37m\u001b[0m \u001b[1m712s\u001b[0m 5s/step - accuracy: 0.9232 - loss: 0.2095 - val_accuracy: 0.8435 - val_loss: 0.3979\n",
      "Epoch 17/50\n",
      "\u001b[1m143/143\u001b[0m \u001b[32m━━━━━━━━━━━━━━━━━━━━\u001b[0m\u001b[37m\u001b[0m \u001b[1m0s\u001b[0m 5s/step - accuracy: 0.9236 - loss: 0.1937\n",
      "Epoch 17: saving model to checkpoints_MNV2/epoch_17_valacc_0.84.weights.h5\n",
      "\u001b[1m143/143\u001b[0m \u001b[32m━━━━━━━━━━━━━━━━━━━━\u001b[0m\u001b[37m\u001b[0m \u001b[1m717s\u001b[0m 5s/step - accuracy: 0.9236 - loss: 0.1937 - val_accuracy: 0.8359 - val_loss: 0.4027\n",
      "Epoch 18/50\n",
      "\u001b[1m143/143\u001b[0m \u001b[32m━━━━━━━━━━━━━━━━━━━━\u001b[0m\u001b[37m\u001b[0m \u001b[1m0s\u001b[0m 5s/step - accuracy: 0.9255 - loss: 0.1832\n",
      "Epoch 18: saving model to checkpoints_MNV2/epoch_18_valacc_0.83.weights.h5\n",
      "\u001b[1m143/143\u001b[0m \u001b[32m━━━━━━━━━━━━━━━━━━━━\u001b[0m\u001b[37m\u001b[0m \u001b[1m703s\u001b[0m 5s/step - accuracy: 0.9255 - loss: 0.1833 - val_accuracy: 0.8321 - val_loss: 0.4059\n",
      "Epoch 19/50\n",
      "\u001b[1m143/143\u001b[0m \u001b[32m━━━━━━━━━━━━━━━━━━━━\u001b[0m\u001b[37m\u001b[0m \u001b[1m0s\u001b[0m 5s/step - accuracy: 0.9268 - loss: 0.1899\n",
      "Epoch 19: saving model to checkpoints_MNV2/epoch_19_valacc_0.85.weights.h5\n",
      "\u001b[1m143/143\u001b[0m \u001b[32m━━━━━━━━━━━━━━━━━━━━\u001b[0m\u001b[37m\u001b[0m \u001b[1m697s\u001b[0m 5s/step - accuracy: 0.9268 - loss: 0.1899 - val_accuracy: 0.8511 - val_loss: 0.3763\n",
      "Epoch 20/50\n",
      "\u001b[1m143/143\u001b[0m \u001b[32m━━━━━━━━━━━━━━━━━━━━\u001b[0m\u001b[37m\u001b[0m \u001b[1m0s\u001b[0m 5s/step - accuracy: 0.9250 - loss: 0.1906\n",
      "Epoch 20: saving model to checkpoints_MNV2/epoch_20_valacc_0.86.weights.h5\n",
      "\u001b[1m143/143\u001b[0m \u001b[32m━━━━━━━━━━━━━━━━━━━━\u001b[0m\u001b[37m\u001b[0m \u001b[1m789s\u001b[0m 6s/step - accuracy: 0.9250 - loss: 0.1906 - val_accuracy: 0.8588 - val_loss: 0.3341\n",
      "Epoch 21/50\n",
      "\u001b[1m143/143\u001b[0m \u001b[32m━━━━━━━━━━━━━━━━━━━━\u001b[0m\u001b[37m\u001b[0m \u001b[1m0s\u001b[0m 6s/step - accuracy: 0.9284 - loss: 0.1890\n",
      "Epoch 21: saving model to checkpoints_MNV2/epoch_21_valacc_0.82.weights.h5\n",
      "\u001b[1m143/143\u001b[0m \u001b[32m━━━━━━━━━━━━━━━━━━━━\u001b[0m\u001b[37m\u001b[0m \u001b[1m914s\u001b[0m 6s/step - accuracy: 0.9284 - loss: 0.1891 - val_accuracy: 0.8206 - val_loss: 0.4204\n",
      "Epoch 22/50\n",
      "\u001b[1m143/143\u001b[0m \u001b[32m━━━━━━━━━━━━━━━━━━━━\u001b[0m\u001b[37m\u001b[0m \u001b[1m0s\u001b[0m 5s/step - accuracy: 0.9182 - loss: 0.1971\n",
      "Epoch 22: saving model to checkpoints_MNV2/epoch_22_valacc_0.81.weights.h5\n",
      "\u001b[1m143/143\u001b[0m \u001b[32m━━━━━━━━━━━━━━━━━━━━\u001b[0m\u001b[37m\u001b[0m \u001b[1m714s\u001b[0m 5s/step - accuracy: 0.9183 - loss: 0.1971 - val_accuracy: 0.8092 - val_loss: 0.4780\n",
      "Epoch 23/50\n",
      "\u001b[1m143/143\u001b[0m \u001b[32m━━━━━━━━━━━━━━━━━━━━\u001b[0m\u001b[37m\u001b[0m \u001b[1m0s\u001b[0m 5s/step - accuracy: 0.9286 - loss: 0.1813\n",
      "Epoch 23: saving model to checkpoints_MNV2/epoch_23_valacc_0.82.weights.h5\n",
      "\u001b[1m143/143\u001b[0m \u001b[32m━━━━━━━━━━━━━━━━━━━━\u001b[0m\u001b[37m\u001b[0m \u001b[1m718s\u001b[0m 5s/step - accuracy: 0.9286 - loss: 0.1812 - val_accuracy: 0.8244 - val_loss: 0.4599\n",
      "Epoch 24/50\n",
      "\u001b[1m143/143\u001b[0m \u001b[32m━━━━━━━━━━━━━━━━━━━━\u001b[0m\u001b[37m\u001b[0m \u001b[1m0s\u001b[0m 5s/step - accuracy: 0.9266 - loss: 0.1819\n",
      "Epoch 24: saving model to checkpoints_MNV2/epoch_24_valacc_0.86.weights.h5\n",
      "\u001b[1m143/143\u001b[0m \u001b[32m━━━━━━━━━━━━━━━━━━━━\u001b[0m\u001b[37m\u001b[0m \u001b[1m712s\u001b[0m 5s/step - accuracy: 0.9266 - loss: 0.1819 - val_accuracy: 0.8626 - val_loss: 0.4121\n",
      "Epoch 25/50\n",
      "\u001b[1m143/143\u001b[0m \u001b[32m━━━━━━━━━━━━━━━━━━━━\u001b[0m\u001b[37m\u001b[0m \u001b[1m0s\u001b[0m 5s/step - accuracy: 0.9403 - loss: 0.1663\n",
      "Epoch 25: saving model to checkpoints_MNV2/epoch_25_valacc_0.89.weights.h5\n",
      "\u001b[1m143/143\u001b[0m \u001b[32m━━━━━━━━━━━━━━━━━━━━\u001b[0m\u001b[37m\u001b[0m \u001b[1m717s\u001b[0m 5s/step - accuracy: 0.9403 - loss: 0.1664 - val_accuracy: 0.8893 - val_loss: 0.3473\n",
      "Epoch 26/50\n",
      "\u001b[1m143/143\u001b[0m \u001b[32m━━━━━━━━━━━━━━━━━━━━\u001b[0m\u001b[37m\u001b[0m \u001b[1m0s\u001b[0m 5s/step - accuracy: 0.9298 - loss: 0.1819\n",
      "Epoch 26: saving model to checkpoints_MNV2/epoch_26_valacc_0.84.weights.h5\n",
      "\u001b[1m143/143\u001b[0m \u001b[32m━━━━━━━━━━━━━━━━━━━━\u001b[0m\u001b[37m\u001b[0m \u001b[1m712s\u001b[0m 5s/step - accuracy: 0.9298 - loss: 0.1819 - val_accuracy: 0.8435 - val_loss: 0.4171\n",
      "Epoch 27/50\n",
      "\u001b[1m143/143\u001b[0m \u001b[32m━━━━━━━━━━━━━━━━━━━━\u001b[0m\u001b[37m\u001b[0m \u001b[1m0s\u001b[0m 5s/step - accuracy: 0.9338 - loss: 0.1720\n",
      "Epoch 27: saving model to checkpoints_MNV2/epoch_27_valacc_0.79.weights.h5\n",
      "\u001b[1m143/143\u001b[0m \u001b[32m━━━━━━━━━━━━━━━━━━━━\u001b[0m\u001b[37m\u001b[0m \u001b[1m719s\u001b[0m 5s/step - accuracy: 0.9338 - loss: 0.1720 - val_accuracy: 0.7901 - val_loss: 0.6487\n",
      "Epoch 28/50\n",
      "\u001b[1m143/143\u001b[0m \u001b[32m━━━━━━━━━━━━━━━━━━━━\u001b[0m\u001b[37m\u001b[0m \u001b[1m0s\u001b[0m 5s/step - accuracy: 0.9379 - loss: 0.1629\n",
      "Epoch 28: saving model to checkpoints_MNV2/epoch_28_valacc_0.85.weights.h5\n",
      "\u001b[1m143/143\u001b[0m \u001b[32m━━━━━━━━━━━━━━━━━━━━\u001b[0m\u001b[37m\u001b[0m \u001b[1m781s\u001b[0m 5s/step - accuracy: 0.9379 - loss: 0.1630 - val_accuracy: 0.8511 - val_loss: 0.4251\n",
      "Epoch 29/50\n",
      "\u001b[1m143/143\u001b[0m \u001b[32m━━━━━━━━━━━━━━━━━━━━\u001b[0m\u001b[37m\u001b[0m \u001b[1m0s\u001b[0m 5s/step - accuracy: 0.9296 - loss: 0.1698\n",
      "Epoch 29: saving model to checkpoints_MNV2/epoch_29_valacc_0.87.weights.h5\n",
      "\u001b[1m143/143\u001b[0m \u001b[32m━━━━━━━━━━━━━━━━━━━━\u001b[0m\u001b[37m\u001b[0m \u001b[1m781s\u001b[0m 5s/step - accuracy: 0.9296 - loss: 0.1698 - val_accuracy: 0.8664 - val_loss: 0.4053\n",
      "Epoch 30/50\n",
      "\u001b[1m143/143\u001b[0m \u001b[32m━━━━━━━━━━━━━━━━━━━━\u001b[0m\u001b[37m\u001b[0m \u001b[1m0s\u001b[0m 5s/step - accuracy: 0.9353 - loss: 0.1711\n",
      "Epoch 30: saving model to checkpoints_MNV2/epoch_30_valacc_0.87.weights.h5\n",
      "\u001b[1m143/143\u001b[0m \u001b[32m━━━━━━━━━━━━━━━━━━━━\u001b[0m\u001b[37m\u001b[0m \u001b[1m783s\u001b[0m 5s/step - accuracy: 0.9353 - loss: 0.1711 - val_accuracy: 0.8740 - val_loss: 0.3527\n",
      "Epoch 31/50\n",
      "\u001b[1m143/143\u001b[0m \u001b[32m━━━━━━━━━━━━━━━━━━━━\u001b[0m\u001b[37m\u001b[0m \u001b[1m0s\u001b[0m 5s/step - accuracy: 0.9356 - loss: 0.1658\n",
      "Epoch 31: saving model to checkpoints_MNV2/epoch_31_valacc_0.85.weights.h5\n",
      "\u001b[1m143/143\u001b[0m \u001b[32m━━━━━━━━━━━━━━━━━━━━\u001b[0m\u001b[37m\u001b[0m \u001b[1m784s\u001b[0m 5s/step - accuracy: 0.9356 - loss: 0.1658 - val_accuracy: 0.8511 - val_loss: 0.3742\n",
      "Epoch 32/50\n",
      "\u001b[1m143/143\u001b[0m \u001b[32m━━━━━━━━━━━━━━━━━━━━\u001b[0m\u001b[37m\u001b[0m \u001b[1m0s\u001b[0m 5s/step - accuracy: 0.9444 - loss: 0.1479\n",
      "Epoch 32: saving model to checkpoints_MNV2/epoch_32_valacc_0.85.weights.h5\n",
      "\u001b[1m143/143\u001b[0m \u001b[32m━━━━━━━━━━━━━━━━━━━━\u001b[0m\u001b[37m\u001b[0m \u001b[1m782s\u001b[0m 5s/step - accuracy: 0.9444 - loss: 0.1480 - val_accuracy: 0.8550 - val_loss: 0.4173\n",
      "Epoch 33/50\n",
      "\u001b[1m143/143\u001b[0m \u001b[32m━━━━━━━━━━━━━━━━━━━━\u001b[0m\u001b[37m\u001b[0m \u001b[1m0s\u001b[0m 5s/step - accuracy: 0.9393 - loss: 0.1586\n",
      "Epoch 33: saving model to checkpoints_MNV2/epoch_33_valacc_0.89.weights.h5\n",
      "\u001b[1m143/143\u001b[0m \u001b[32m━━━━━━━━━━━━━━━━━━━━\u001b[0m\u001b[37m\u001b[0m \u001b[1m739s\u001b[0m 5s/step - accuracy: 0.9393 - loss: 0.1586 - val_accuracy: 0.8893 - val_loss: 0.3149\n",
      "Epoch 34/50\n",
      "\u001b[1m143/143\u001b[0m \u001b[32m━━━━━━━━━━━━━━━━━━━━\u001b[0m\u001b[37m\u001b[0m \u001b[1m0s\u001b[0m 5s/step - accuracy: 0.9377 - loss: 0.1606\n",
      "Epoch 34: saving model to checkpoints_MNV2/epoch_34_valacc_0.89.weights.h5\n",
      "\u001b[1m143/143\u001b[0m \u001b[32m━━━━━━━━━━━━━━━━━━━━\u001b[0m\u001b[37m\u001b[0m \u001b[1m723s\u001b[0m 5s/step - accuracy: 0.9377 - loss: 0.1606 - val_accuracy: 0.8855 - val_loss: 0.2887\n",
      "Epoch 35/50\n",
      "\u001b[1m143/143\u001b[0m \u001b[32m━━━━━━━━━━━━━━━━━━━━\u001b[0m\u001b[37m\u001b[0m \u001b[1m0s\u001b[0m 5s/step - accuracy: 0.9394 - loss: 0.1595\n",
      "Epoch 35: saving model to checkpoints_MNV2/epoch_35_valacc_0.85.weights.h5\n",
      "\u001b[1m143/143\u001b[0m \u001b[32m━━━━━━━━━━━━━━━━━━━━\u001b[0m\u001b[37m\u001b[0m \u001b[1m714s\u001b[0m 5s/step - accuracy: 0.9394 - loss: 0.1595 - val_accuracy: 0.8550 - val_loss: 0.3880\n",
      "Epoch 35: early stopping\n",
      "Restoring model weights from the end of the best epoch: 25.\n"
     ]
    }
   ],
   "source": [
    "\n",
    "from tensorflow.keras.applications import MobileNetV2\n",
    "from tensorflow.keras.models import Model\n",
    "from tensorflow.keras.models import Model\n",
    "from tensorflow.keras.layers import Dense, Dropout, MaxPooling2D, GlobalAveragePooling2D, BatchNormalization\n",
    "\n",
    "# Load MobileNetV2 base model\n",
    "base_model = MobileNetV2(input_shape=(img_size,img_size, 3), include_top=False, weights='imagenet')\n",
    "base_model.trainable = False  # Freeze the base model\n",
    "\n",
    "# Add custom top layers\n",
    "x = base_model.output\n",
    "x = GlobalAveragePooling2D()(x)\n",
    "x = Dropout(0.3)(x)\n",
    "x = Dense(128, activation='relu')(x)\n",
    "x = Dropout(0.2)(x)\n",
    "predictions = Dense(4, activation='softmax')(x)\n",
    "\n",
    "model = Model(inputs=base_model.input, outputs=predictions)\n",
    "\n",
    "# Compile model\n",
    "model.compile(optimizer='adam',\n",
    "              loss='sparse_categorical_crossentropy',\n",
    "              metrics=['accuracy'])\n",
    "from tensorflow.keras.callbacks import ModelCheckpoint\n",
    "import os\n",
    "\n",
    "# Create a directory to save weights if it doesn't exist\n",
    "os.makedirs(\"checkpoints_MNV2\", exist_ok=True)\n",
    "\n",
    "# Callback to save weights after each epoch\n",
    "checkpoint_cb = ModelCheckpoint(\n",
    "    filepath='checkpoints_MNV2/epoch_{epoch:02d}_valacc_{val_accuracy:.2f}.weights.h5',\n",
    "    save_weights_only=True,\n",
    "    save_best_only=False,\n",
    "    monitor='val_accuracy',\n",
    "    mode='max',\n",
    "    verbose=1\n",
    ")\n",
    "EarlyStopping_cb = tf.keras.callbacks.EarlyStopping(\n",
    "    monitor='val_accuracy', patience=10, restore_best_weights=True, verbose=1\n",
    ")\n",
    "\n",
    "# Train model\n",
    "history = model.fit(\n",
    "    train_generator,\n",
    "    epochs=epochs,\n",
    "    validation_data=val_generator,\n",
    "    callbacks=[checkpoint_cb, EarlyStopping_cb]\n",
    ")\n",
    "\n",
    "\n"
   ]
  },
  {
   "cell_type": "code",
   "execution_count": 8,
   "id": "314e507f",
   "metadata": {},
   "outputs": [],
   "source": [
    "model.load_weights(r'C:\\CDAC\\Tumor_Detector_And_Report_Generation\\checkpoints_MNV2\\epoch_33_valacc_0.89.weights.h5')"
   ]
  },
  {
   "cell_type": "code",
   "execution_count": 9,
   "id": "9caa6c6a",
   "metadata": {},
   "outputs": [],
   "source": [
    "model.save(\"brain_tumor_classifier.keras\")"
   ]
  },
  {
   "cell_type": "code",
   "execution_count": 13,
   "id": "a51eb66d",
   "metadata": {},
   "outputs": [
    {
     "name": "stdout",
     "output_type": "stream",
     "text": [
      "Actual class indices from generator: {'glioma_tumor': 0, 'meningioma_tumor': 1, 'no_tumor': 2, 'pituitary_tumor': 3}\n"
     ]
    }
   ],
   "source": [
    "print(\"Actual class indices from generator:\", val_generator.class_indices)"
   ]
  },
  {
   "cell_type": "code",
   "execution_count": 16,
   "id": "fc9517ee",
   "metadata": {},
   "outputs": [
    {
     "name": "stdout",
     "output_type": "stream",
     "text": [
      "Found 1311 images belonging to 4 classes.\n"
     ]
    },
    {
     "name": "stderr",
     "output_type": "stream",
     "text": [
      "c:\\Users\\vivek\\anaconda3\\envs\\Tumor_detector\\Lib\\site-packages\\keras\\src\\trainers\\data_adapters\\py_dataset_adapter.py:121: UserWarning: Your `PyDataset` class should call `super().__init__(**kwargs)` in its constructor. `**kwargs` can include `workers`, `use_multiprocessing`, `max_queue_size`. Do not pass these arguments to `fit()`, as they will be ignored.\n",
      "  self._warn_if_super_not_called()\n"
     ]
    },
    {
     "name": "stdout",
     "output_type": "stream",
     "text": [
      "\u001b[1m41/41\u001b[0m \u001b[32m━━━━━━━━━━━━━━━━━━━━\u001b[0m\u001b[37m\u001b[0m \u001b[1m184s\u001b[0m 4s/step\n",
      "\n",
      "Classification Report:\n",
      "\n",
      "                  precision    recall  f1-score   support\n",
      "\n",
      "        no_tumor       0.91      0.99      0.95       405\n",
      "    glioma_tumor       0.98      0.82      0.89       300\n",
      "meningioma_tumor       0.81      0.83      0.82       306\n",
      " pituitary_tumor       0.95      0.97      0.96       300\n",
      "\n",
      "        accuracy                           0.91      1311\n",
      "       macro avg       0.91      0.90      0.91      1311\n",
      "    weighted avg       0.91      0.91      0.91      1311\n",
      "\n"
     ]
    },
    {
     "data": {
      "image/png": "[encoded data removed]",
      "text/plain": [
       "<Figure size 800x600 with 2 Axes>"
      ]
     },
     "metadata": {},
     "output_type": "display_data"
    }
   ],
   "source": [
    "import os\n",
    "import numpy as np\n",
    "import matplotlib.pyplot as plt\n",
    "import seaborn as sns\n",
    "from sklearn.metrics import classification_report, confusion_matrix\n",
    "from tensorflow.keras.models import load_model\n",
    "from tensorflow.keras.preprocessing.image import ImageDataGenerator\n",
    "\n",
    "# === 1. Load the model ===\n",
    "model = load_model(r'C:\\CDAC\\Tumor_Detector_And_Report_Generation\\brain_tumor_classifier.keras')  # adjust path if needed\n",
    "\n",
    "# === 2. Define image settings ===\n",
    "IMG_SIZE = (512, 512)\n",
    "BATCH_SIZE = 32\n",
    "val_dir = 'C:\\CDAC\\Tumor_Detector_And_Report_Generation\\Dataset\\Val'  # your actual val path\n",
    "\n",
    "# === 3. Create data generator ===\n",
    "val_datagen = ImageDataGenerator(rescale=1./255)\n",
    "\n",
    "val_generator = val_datagen.flow_from_directory(\n",
    "    val_dir,\n",
    "    target_size=IMG_SIZE,\n",
    "    batch_size=BATCH_SIZE,\n",
    "    class_mode='sparse',\n",
    "    shuffle=False  # VERY IMPORTANT: don't shuffle for accurate reporting\n",
    ")\n",
    "\n",
    "# === 4. Predict on validation data ===\n",
    "# === Get dynamically sorted class names from class_indices ===\n",
    "# Actual classes used in training\n",
    "train_class_indices = {'no_tumor': 0, 'glioma_tumor': 1, 'meningioma_tumor': 2, 'pituitary_tumor': 3}\n",
    "\n",
    "# Create reverse mapping from index to label based on training\n",
    "index_to_label = {v: k for k, v in train_class_indices.items()}\n",
    "train_class_order = [index_to_label[i] for i in range(len(index_to_label))]\n",
    "\n",
    "# Get predictions\n",
    "Y_pred = model.predict(val_generator, steps=len(val_generator), verbose=1)\n",
    "y_pred = np.argmax(Y_pred, axis=1)\n",
    "y_true_val = val_generator.classes\n",
    "\n",
    "# Fix y_true to match training indices\n",
    "# Mapping val class index → class name → training index\n",
    "val_class_indices = val_generator.class_indices\n",
    "val_index_to_label = {v: k for k, v in val_class_indices.items()}\n",
    "y_true_train_indices = [train_class_indices[val_index_to_label[i]] for i in y_true_val]\n",
    "\n",
    "# Print report\n",
    "print(\"\\nClassification Report:\\n\")\n",
    "print(classification_report(y_true_train_indices, y_pred, target_names=train_class_order))\n",
    "\n",
    "# Confusion matrix\n",
    "cm = confusion_matrix(y_true_train_indices, y_pred)\n",
    "\n",
    "plt.figure(figsize=(8, 6))\n",
    "sns.heatmap(cm, annot=True, fmt='d', xticklabels=train_class_order, yticklabels=train_class_order, cmap='Blues')\n",
    "plt.xlabel('Predicted Labels')\n",
    "plt.ylabel('True Labels')\n",
    "plt.title('Confusion Matrix (Aligned to Training Classes)')\n",
    "plt.tight_layout()\n",
    "plt.show()\n",
    "\n"
   ]
  }
 ],
 "metadata": {
  "kernelspec": {
   "display_name": "Tumor_detector",
   "language": "python",
   "name": "python3"
  },
  "language_info": {
   "codemirror_mode": {
    "name": "ipython",
    "version": 3
   },
   "file_extension": ".py",
   "mimetype": "text/x-python",
   "name": "python",
   "nbconvert_exporter": "python",
   "pygments_lexer": "ipython3",
   "version": "3.11.11"
  }
 },
 "nbformat": 4,
 "nbformat_minor": 5
}
